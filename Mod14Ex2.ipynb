{
 "cells": [
  {
   "cell_type": "code",
   "execution_count": null,
   "id": "99a2c90d-27a5-405e-9f78-d6c61bee7d71",
   "metadata": {},
   "outputs": [],
   "source": [
    "\n",
    "import pandas as pd\n",
    "import seaborn as sns\n",
    "import matplotlib.pyplot as plt\n",
    "import os\n",
    "import sys\n",
    "\n",
    "sns.set()\n",
    "\n",
    "def plota_pivot_table(df, value, index, func, ylabel, xlabel, opcao='nada'):\n",
    "    if opcao == 'nada':\n",
    "        pd.pivot_table(df, values=value, index=index,\n",
    "                       aggfunc=func).plot(figsize=[15, 5])\n",
    "    elif opcao == 'sort':\n",
    "        pd.pivot_table(df, values=value, index=index, aggfunc=func).sort_values(\n",
    "            value).plot(figsize=[15, 5])\n",
    "    elif opcao == 'unstack':\n",
    "        pd.pivot_table(df, values=value, index=index,\n",
    "                       aggfunc=func).unstack().plot(figsize=[15, 5])\n",
    "    plt.ylabel(ylabel)\n",
    "    plt.xlabel(xlabel)\n",
    "    return None\n",
    "\n",
    "lista_meses = sys.argv[1:]\n",
    "\n",
    "for mes in lista_meses:\n",
    "    mes\n",
    "\n",
    "    sinasc = pd.read_csv('./input/SINASC_RO_2019_'+mes+'.csv')\n",
    "\n",
    "    max_data = sinasc.DTNASC.max()[: 7]\n",
    "    print(max_data)\n",
    "\n",
    "    os.makedirs('./output/figs/'+max_data, exist_ok=True)\n",
    "\n",
    "    plota_pivot_table(sinasc, 'IDADEMAE', 'DTNASC', 'count', 'Quantidade de Nascimento', 'Data de Nascimento')\n",
    "    plt.savefig('./output/figs/'+max_data+'/quantidade-de-nascimento.png')\n",
    "\n",
    "    plota_pivot_table(sinasc, 'IDADEMAE', [ 'DTNASC', 'SEXO'], 'mean', 'Media Idade Mae', 'Data de Nascimento', 'unstack')\n",
    "    plt.savefig('./output/figs/'+max_data+'/media-idade-mae-por-sexo.png')\n",
    "\n",
    "    plota_pivot_table(sinasc, 'PESO', [ 'DTNASC', 'SEXO'], 'mean', 'Media Peso Bebe', 'Data de Nascimento', 'unstack')\n",
    "    plt.savefig('./output/figs/'+max_data+'/media-peso-bebe-por-sexo.png')\n",
    "\n",
    "    plota_pivot_table(sinasc, 'PESO', 'ESCMAE', 'median', 'Apgar1 Medio', 'Gestacao', 'sort')\n",
    "    plt.savefig('./output/figs/'+max_data+'/media-apgar1-por-escolaridade-mae.png')\n",
    "\n",
    "    plota_pivot_table(sinasc, 'APGAR1', 'GESTACAO', 'mean', 'Apgar1 Aedio', 'Gestacao', 'sort')\n",
    "    plt.savefig('./output/figs/'+max_data+'/media-apgar1-por-gestacao.png')\n",
    "\n",
    "    plota_pivot_table(sinasc, 'APGAR5', 'GESTACAO', 'mean', 'Apgar5 Medio', 'Gestacao', 'sort')\n",
    "    plt.savefig('./output/figs/'+max_data+'/media-apgar5-por-gestacao.png')\n"
   ]
  }
 ],
 "metadata": {
  "kernelspec": {
   "display_name": "Python [conda env:base] *",
   "language": "python",
   "name": "conda-base-py"
  },
  "language_info": {
   "codemirror_mode": {
    "name": "ipython",
    "version": 3
   },
   "file_extension": ".py",
   "mimetype": "text/x-python",
   "name": "python",
   "nbconvert_exporter": "python",
   "pygments_lexer": "ipython3",
   "version": "3.12.7"
  }
 },
 "nbformat": 4,
 "nbformat_minor": 5
}
